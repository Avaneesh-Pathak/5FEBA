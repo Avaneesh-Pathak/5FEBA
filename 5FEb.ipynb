{
 "cells": [
  {
   "cell_type": "code",
   "execution_count": null,
   "id": "18e6705d-3bd0-40ed-ba8a-fd7e29cce447",
   "metadata": {},
   "outputs": [],
   "source": [
    " \"\"\" Explain Class and Object with respect to Object-Oriented Programming. Give a suitable example."
   ]
  },
  {
   "cell_type": "code",
   "execution_count": null,
   "id": "44cf8789-d3f2-46fb-b9b7-1766c0e2914c",
   "metadata": {},
   "outputs": [],
   "source": [
    "In object-oriented programming (OOP), a class is a blueprint for creating objects (a particular data structure), providing initial values for state (member variables or attributes), and implementations of behavior (member functions or methods).\n",
    "\n",
    "An object is an instance of a class. It has a state and behavior, which is determined by its class. An object can be created by calling the constructor of its class."
   ]
  },
  {
   "cell_type": "code",
   "execution_count": 1,
   "id": "1459d7f3-3049-4f56-aec2-871d5c2dbdc3",
   "metadata": {},
   "outputs": [
    {
     "name": "stdout",
     "output_type": "stream",
     "text": [
      "Driving a Red Toyota Camry\n",
      "Driving a Blue Honda Civic\n"
     ]
    }
   ],
   "source": [
    "class Car:\n",
    "    def __init__(self, color, make, model):\n",
    "        self.color = color\n",
    "        self.make = make\n",
    "        self.model = model\n",
    "\n",
    "    def drive(self):\n",
    "        print(f\"Driving a {self.color} {self.make} {self.model}\")\n",
    "        \n",
    "car1 = Car(\"Red\", \"Toyota\", \"Camry\")\n",
    "car2 = Car(\"Blue\", \"Honda\", \"Civic\")\n",
    "\n",
    "car1.drive()\n",
    "car2.drive()"
   ]
  },
  {
   "cell_type": "code",
   "execution_count": null,
   "id": "bc63f955-41f6-4279-bbed-828f703d7b17",
   "metadata": {},
   "outputs": [],
   "source": [
    "\"\"\" Name the four pillars of OOPs"
   ]
  },
  {
   "cell_type": "code",
   "execution_count": null,
   "id": "b4cd92f9-4c31-4f7c-a105-47812ba01335",
   "metadata": {},
   "outputs": [],
   "source": [
    "Four pillars of opps are as follows:-\n",
    "1.Abstraction\n",
    "2.Encapsulation\n",
    "3.Inheritance\n",
    "4.Polymorphism"
   ]
  },
  {
   "cell_type": "code",
   "execution_count": null,
   "id": "e809d906-0544-4e70-8c68-f3ecce1580ff",
   "metadata": {},
   "outputs": [],
   "source": [
    "\"\"\" Explain why the __init__() function is used. Give a suitable example"
   ]
  },
  {
   "cell_type": "code",
   "execution_count": null,
   "id": "ec5a8806-af4c-400f-8d45-4c05daaf579a",
   "metadata": {},
   "outputs": [],
   "source": [
    "The __init__() function is a special method in Python that is run as soon as an object of a class is instantiated. It is used to initialize the attributes of the object. The __init__ method takes the first argument as self, which is a reference to the instance being created, and the rest of the arguments are used to initialize the attributes of the object."
   ]
  },
  {
   "cell_type": "code",
   "execution_count": 2,
   "id": "5d975af2-9eba-45cd-9838-5d0104bc39a2",
   "metadata": {},
   "outputs": [
    {
     "name": "stdout",
     "output_type": "stream",
     "text": [
      "John Doe\n",
      "30\n",
      "Jane Doe\n",
      "25\n"
     ]
    }
   ],
   "source": [
    "class Person:\n",
    "    def __init__(self, name, age):\n",
    "        self.name = name\n",
    "        self.age = age\n",
    "person1 = Person(\"John Doe\", 30)\n",
    "person2 = Person(\"Jane Doe\", 25)\n",
    "print(person1.name)\n",
    "print(person1.age)\n",
    "print(person2.name)\n",
    "print(person2.age)\n",
    "\n"
   ]
  },
  {
   "cell_type": "code",
   "execution_count": null,
   "id": "f8c4bc6b-7693-4897-a932-c3aa0556823f",
   "metadata": {},
   "outputs": [],
   "source": [
    "\"\"\"why self is used in OOPs?"
   ]
  },
  {
   "cell_type": "code",
   "execution_count": 3,
   "id": "00173088-f17c-43aa-a5da-57969e714331",
   "metadata": {},
   "outputs": [
    {
     "ename": "SyntaxError",
     "evalue": "invalid syntax (1995212670.py, line 1)",
     "output_type": "error",
     "traceback": [
      "\u001b[0;36m  Cell \u001b[0;32mIn[3], line 1\u001b[0;36m\u001b[0m\n\u001b[0;31m    In Object-Oriented Programming (OOP), self is a reference to the instance of the object on which a method is being called. It is used to access the attributes and methods of the object from within the object itself.\u001b[0m\n\u001b[0m       ^\u001b[0m\n\u001b[0;31mSyntaxError\u001b[0m\u001b[0;31m:\u001b[0m invalid syntax\n"
     ]
    }
   ],
   "source": [
    "In Object-Oriented Programming (OOP), self is a reference to the instance of the object on which a method is being called. It is used to access the attributes and methods of the object from within the object itself."
   ]
  },
  {
   "cell_type": "code",
   "execution_count": null,
   "id": "0d55c64b-e3b9-4f8c-9ad9-949edb027859",
   "metadata": {},
   "outputs": [],
   "source": [
    "\"\"\" What is inheritance? Give an example for each type of inheritance"
   ]
  },
  {
   "cell_type": "code",
   "execution_count": null,
   "id": "3a31b2ec-b8a9-4cc9-a8da-b089447b7c44",
   "metadata": {},
   "outputs": [],
   "source": [
    "In Object-Oriented Programming (OOP), self is a reference to the instance of the object on which a method is being called. It is used to access the attributes and methods of the object from within the object itself."
   ]
  }
 ],
 "metadata": {
  "kernelspec": {
   "display_name": "Python 3 (ipykernel)",
   "language": "python",
   "name": "python3"
  },
  "language_info": {
   "codemirror_mode": {
    "name": "ipython",
    "version": 3
   },
   "file_extension": ".py",
   "mimetype": "text/x-python",
   "name": "python",
   "nbconvert_exporter": "python",
   "pygments_lexer": "ipython3",
   "version": "3.10.8"
  }
 },
 "nbformat": 4,
 "nbformat_minor": 5
}
